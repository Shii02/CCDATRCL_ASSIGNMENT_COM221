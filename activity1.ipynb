{
  "nbformat": 4,
  "nbformat_minor": 0,
  "metadata": {
    "colab": {
      "provenance": []
    },
    "kernelspec": {
      "name": "python3",
      "display_name": "Python 3"
    },
    "language_info": {
      "name": "python"
    }
  },
  "cells": [
    {
      "cell_type": "code",
      "execution_count": 2,
      "metadata": {
        "id": "aWc5Wwzvw71L"
      },
      "outputs": [],
      "source": [
        "class Node:\n",
        "    def __init__(self, data):\n",
        "        self.data = data\n",
        "        self.next = None\n",
        "        self.prev = None"
      ]
    },
    {
      "cell_type": "code",
      "source": [
        "class LinkedList:\n",
        "\n",
        "    def __init__(self):\n",
        "        self.head = None\n",
        "\n",
        "    def traverse(self, node):\n",
        "        while node:\n",
        "            print(node.data, end=\" -> \")\n",
        "            node = node.next"
      ],
      "metadata": {
        "id": "CckTgChY2GS4"
      },
      "execution_count": 3,
      "outputs": []
    },
    {
      "cell_type": "code",
      "source": [
        "class DoublyLinkedList:\n",
        "\n",
        "    def __init__(self):\n",
        "        self.head = None\n",
        "\n",
        "    def traverse(self, node):\n",
        "        while node:\n",
        "            print(node.data, end=\" -> \")\n",
        "            node = node.next"
      ],
      "metadata": {
        "id": "S76COV_M2N-H"
      },
      "execution_count": 4,
      "outputs": []
    },
    {
      "cell_type": "code",
      "source": [
        "class CircularLinkedList:\n",
        "\n",
        "    def __init__(self):\n",
        "        self.head = None\n",
        "\n",
        "    def traverse(self, node):\n",
        "\n",
        "        head = node\n",
        "\n",
        "        while node:\n",
        "            print(node.data, end=\" -> \")\n",
        "            node = node.next\n",
        "\n",
        "            # Break to prevent infinite loop\n",
        "            if node == head:\n",
        "                break"
      ],
      "metadata": {
        "id": "144hSQYL2RlD"
      },
      "execution_count": 5,
      "outputs": []
    },
    {
      "cell_type": "code",
      "source": [
        "# item no 1\n",
        "\n",
        "list = LinkedList()\n",
        "list.head = Node(\"Vernon\")\n",
        "body2 = Node(\"Rainnand\")\n",
        "body3 = Node(\"Carl\")\n",
        "body4 = Node(\"Juan\")\n",
        "tail = Node(\"Pedro\")\n",
        "#etc...\n",
        "\n",
        "list.head.next = body2\n",
        "body2.next = body3\n",
        "body3.next = body4\n",
        "body4.next = tail\n",
        "\n",
        "list.traverse(list.head)"
      ],
      "metadata": {
        "colab": {
          "base_uri": "https://localhost:8080/"
        },
        "id": "1JbMBWVz2THD",
        "outputId": "08b2cee3-3441-49c6-a4f5-032e87b546f2"
      },
      "execution_count": 12,
      "outputs": [
        {
          "output_type": "stream",
          "name": "stdout",
          "text": [
            "Vernon -> Rainnand -> Carl -> Juan -> Pedro -> "
          ]
        }
      ]
    },
    {
      "cell_type": "code",
      "source": [
        "# item no 2\n",
        "\n",
        "list = DoublyLinkedList()\n",
        "list.head = Node(\"Vernon\")\n",
        "body2 = Node(\"Rainnand\")\n",
        "body3 = Node(\"Carl\")\n",
        "body4 = Node(\"Juan\")\n",
        "tail = Node(\"Pedro\")\n",
        "\n",
        "list.head.prev = None\n",
        "list.head.next = body2\n",
        "\n",
        "body2.prev = list.head\n",
        "body2.next = body3\n",
        "\n",
        "body3.prev = body2\n",
        "body3.next = body4\n",
        "\n",
        "body4.prev = body3\n",
        "body4.next = tail\n",
        "\n",
        "tail.prev = body4\n",
        "\n",
        "list.traverse(list.head)\n",
        "\n",
        "print(\"\\n---\")\n",
        "\n",
        "print(\"value of head is :\", list.head.data)\n",
        "print(\"value of next to head is :\", list.head.next.data)\n",
        "\n",
        "print(\"---\")\n",
        "\n",
        "print(\"value of body2 is :\", body2.data)\n",
        "print(\"value of previous of body2 is :\", body2.prev.data)\n",
        "print(\"value of next of body2 is :\", body2.next.data)\n",
        "\n",
        "print(\"---\")\n",
        "\n",
        "print(\"value of body3 is :\", body3.data)\n",
        "print(\"value of previous of body3 is :\", body3.prev.data)\n",
        "print(\"value of next of body2 is :\", body3.next.data)\n",
        "\n",
        "print(\"---\")\n",
        "\n",
        "print(\"value of body4 is :\", body4.data)\n",
        "print(\"value of previous of body4 is :\", body4.prev.data)\n",
        "print(\"value of next of body4 is :\", body4.next.data)\n",
        "\n",
        "print(\"---\")\n",
        "\n",
        "print(\"value of tail is :\", tail.data)\n",
        "print(\"value of previous of tail is :\", tail.prev.data)"
      ],
      "metadata": {
        "colab": {
          "base_uri": "https://localhost:8080/"
        },
        "id": "1AkwG9ND38fQ",
        "outputId": "cae98eba-78da-46b3-b842-36d9948d0749"
      },
      "execution_count": 13,
      "outputs": [
        {
          "output_type": "stream",
          "name": "stdout",
          "text": [
            "Vernon -> Rainnand -> Carl -> Juan -> Pedro -> \n",
            "---\n",
            "value of head is : Vernon\n",
            "value of next to head is : Rainnand\n",
            "---\n",
            "value of body2 is : Rainnand\n",
            "value of previous of body2 is : Vernon\n",
            "value of next of body2 is : Carl\n",
            "---\n",
            "value of body3 is : Carl\n",
            "value of previous of body3 is : Rainnand\n",
            "value of next of body2 is : Juan\n",
            "---\n",
            "value of body4 is : Juan\n",
            "value of previous of body4 is : Carl\n",
            "value of next of body4 is : Pedro\n",
            "---\n",
            "value of tail is : Pedro\n",
            "value of previous of tail is : Juan\n"
          ]
        }
      ]
    },
    {
      "cell_type": "code",
      "source": [
        "# item no 3\n",
        "\n",
        "list = CircularLinkedList()\n",
        "list.head = Node(\"Vernon\")\n",
        "list2 = Node(\"Rainnand\")\n",
        "list3 = Node(\"Carl\")\n",
        "list4 = Node(\"Pedro\")\n",
        "list5 = Node(\"Juan\")\n",
        "#etc...\n",
        "\n",
        "list.head.next = list2\n",
        "\n",
        "list2.next = list3\n",
        "\n",
        "list3.next = list4\n",
        "\n",
        "list4.next = list5\n",
        "\n",
        "list5.next = list.head\n",
        "\n",
        "list.traverse(list.head)\n",
        "\n",
        "print(\"\\n    \")\n",
        "\n",
        "print(\"value of head is :\", list.head.data)\n",
        "print(\"value of next to head is :\", list.head.next.data)\n",
        "\n",
        "print(\"---\")\n",
        "\n",
        "print(\"value of e2 is :\", list2.data)\n",
        "print(\"value of next to e2 is :\", list2.next.data)\n",
        "\n",
        "print(\"---\")\n",
        "\n",
        "print(\"value of e3 is :\", list3.data)\n",
        "print(\"value of next to e3 is :\", list3.next.data)\n",
        "\n",
        "print(\"---\")\n",
        "\n",
        "print(\"value of e4 is :\", list4.data)\n",
        "print(\"value of next to e4 is :\", list4.next.data)\n",
        "\n",
        "print(\"---\")\n",
        "\n",
        "print(\"value of e5 is :\", list5.data)\n",
        "print(\"value of next to e5 is :\", list5.next.data)\n",
        "\n",
        "print(\"---\")"
      ],
      "metadata": {
        "colab": {
          "base_uri": "https://localhost:8080/"
        },
        "id": "ExgoY4hc_exJ",
        "outputId": "2ac4b316-b3d1-479f-dbbd-e06f58facea1"
      },
      "execution_count": 11,
      "outputs": [
        {
          "output_type": "stream",
          "name": "stdout",
          "text": [
            "Vernon -> Rainnand -> Carl -> Pedro -> Juan -> \n",
            "    \n",
            "value of head is : Vernon\n",
            "value of next to head is : Rainnand\n",
            "---\n",
            "value of e2 is : Rainnand\n",
            "value of next to e2 is : Carl\n",
            "---\n",
            "value of e3 is : Carl\n",
            "value of next to e3 is : Pedro\n",
            "---\n",
            "value of e4 is : Pedro\n",
            "value of next to e4 is : Juan\n",
            "---\n",
            "value of e5 is : Juan\n",
            "value of next to e5 is : Vernon\n",
            "---\n"
          ]
        }
      ]
    }
  ]
}