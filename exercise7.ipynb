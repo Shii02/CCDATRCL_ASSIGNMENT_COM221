{
  "cells": [
    {
      "cell_type": "markdown",
      "metadata": {
        "id": "e3Ja3uozAJlw"
      },
      "source": [
        "# Exercise 7"
      ]
    },
    {
      "cell_type": "code",
      "execution_count": 1,
      "metadata": {
        "id": "IW6uTwU8AJly"
      },
      "outputs": [],
      "source": [
        "class Node:\n",
        "    def __init__(self, item):\n",
        "        self.left = None\n",
        "        self.right = None\n",
        "        self.val = item"
      ]
    },
    {
      "cell_type": "code",
      "execution_count": 2,
      "metadata": {
        "id": "uxVFuimIAJlz"
      },
      "outputs": [],
      "source": [
        "def evaluateExpressionTree(root):\n",
        "\n",
        "    # empty tree\n",
        "    if root is None:\n",
        "        return 0\n",
        "\n",
        "    # leaf node\n",
        "    if root.left is None and root.right is None:\n",
        "        return int(root.val)\n",
        "\n",
        "    # evaluate left tree\n",
        "    left_sum = evaluateExpressionTree(root.left)\n",
        "\n",
        "    # evaluate right tree\n",
        "    right_sum = evaluateExpressionTree(root.right)\n",
        "\n",
        "    # check which operation to apply\n",
        "    if root.val == '+':\n",
        "        return left_sum + right_sum\n",
        "\n",
        "    elif root.val == '-':\n",
        "        return left_sum - right_sum\n",
        "\n",
        "    elif root.val == '*':\n",
        "        return left_sum * right_sum\n",
        "\n",
        "    else:\n",
        "        return left_sum / right_sum"
      ]
    },
    {
      "cell_type": "code",
      "execution_count": 3,
      "metadata": {
        "id": "-xWZXA-mAJl0"
      },
      "outputs": [],
      "source": [
        "def inorder(root):\n",
        "\n",
        "    if root:\n",
        "        # Traverse left\n",
        "        inorder(root.left)\n",
        "        # Traverse root\n",
        "        print(str(root.val) + \"->\", end='')\n",
        "        # Traverse right\n",
        "        inorder(root.right)"
      ]
    },
    {
      "cell_type": "markdown",
      "metadata": {
        "id": "CVtqxh5DAJl1"
      },
      "source": [
        "#### 1. Construct a binary expression tree\n",
        "\n",
        "\n",
        "- Use the evaluateExpressionTree method to get the result of the expression\n",
        "- Use the inorder method to traverse the tree  \n",
        "\n",
        "$$ (8 + 4) * (7 - 9) $$"
      ]
    },
    {
      "cell_type": "code",
      "execution_count": 4,
      "metadata": {
        "id": "CxpP0zcVAJl1"
      },
      "outputs": [],
      "source": [
        "# put your answer here\n",
        "\n",
        "n1 = Node('8')\n",
        "n2 = Node('+')\n",
        "n3 = Node('4')\n",
        "n4 = Node('*')\n",
        "n5 = Node('7')\n",
        "n6 = Node('-')\n",
        "n7 = Node('9')\n",
        "\n",
        "# *'s root\n",
        "\n",
        "n4.left = n2\n",
        "n4.right = n6\n",
        "\n",
        "# +'s root\n",
        "\n",
        "n2.left = n1\n",
        "n2.right = n3\n",
        "\n",
        "# -'s root\n",
        "\n",
        "n6.left = n5\n",
        "n6.right = n7\n"
      ]
    },
    {
      "cell_type": "code",
      "source": [
        "evaluateExpressionTree(n4)"
      ],
      "metadata": {
        "colab": {
          "base_uri": "https://localhost:8080/"
        },
        "id": "lDiyQpnC8H4b",
        "outputId": "b3792a1f-b4ae-4e40-9f5f-faaea973d3c6"
      },
      "execution_count": 5,
      "outputs": [
        {
          "output_type": "execute_result",
          "data": {
            "text/plain": [
              "-24"
            ]
          },
          "metadata": {},
          "execution_count": 5
        }
      ]
    },
    {
      "cell_type": "code",
      "source": [
        "inorder(n4)"
      ],
      "metadata": {
        "colab": {
          "base_uri": "https://localhost:8080/"
        },
        "id": "5nIHvzOr8w9Z",
        "outputId": "1b3b1462-06ae-4a2c-8375-2d01f50f32ce"
      },
      "execution_count": 6,
      "outputs": [
        {
          "output_type": "stream",
          "name": "stdout",
          "text": [
            "8->+->4->*->7->-->9->"
          ]
        }
      ]
    },
    {
      "cell_type": "markdown",
      "metadata": {
        "id": "jc5KHLk6AJl2"
      },
      "source": [
        "#### 2. Construct a binary expression tree\n",
        "\n",
        "- Use the evaluateExpressionTree method to get the result of the expression\n",
        "- Use the inorder method to traverse the tree  \n",
        "\n",
        "$$ 5 / 8 + 3 - 6 * 1 $$"
      ]
    },
    {
      "cell_type": "code",
      "execution_count": 18,
      "metadata": {
        "id": "XORzqkC3AJl2"
      },
      "outputs": [],
      "source": [
        "# put your answer here\n",
        "# put your answer here\n",
        "\n",
        "m1 = Node('5')\n",
        "m2 = Node('/')\n",
        "m3 = Node('8')\n",
        "m4 = Node('+')\n",
        "m5 = Node('3')\n",
        "m6 = Node('-')\n",
        "m7 = Node('6')\n",
        "m8 = Node('*')\n",
        "m9 = Node('1')\n",
        "\n",
        "# let '-' (m6) be the parent (top) node\n",
        "\n",
        "# -'s (m6) root\n",
        "m6.left = m4\n",
        "m6.right = m8\n",
        "\n",
        "# +'s (m4) root\n",
        "m4.left = m2\n",
        "m4.right = m5\n",
        "\n",
        "# /'s (m2) root\n",
        "m2.left = m1\n",
        "m2.right = m3\n",
        "\n",
        "# *'s (m8) root\n",
        "\n",
        "m8.left = m7\n",
        "m8.right = m9"
      ]
    },
    {
      "cell_type": "code",
      "source": [
        "evaluateExpressionTree(m6)"
      ],
      "metadata": {
        "id": "XZHAfund-1dO",
        "colab": {
          "base_uri": "https://localhost:8080/"
        },
        "outputId": "c44b8b37-e600-4ea4-ffd2-dd7ed84a41ec"
      },
      "execution_count": 19,
      "outputs": [
        {
          "output_type": "execute_result",
          "data": {
            "text/plain": [
              "-2.375"
            ]
          },
          "metadata": {},
          "execution_count": 19
        }
      ]
    },
    {
      "cell_type": "code",
      "source": [
        "inorder(m6)"
      ],
      "metadata": {
        "colab": {
          "base_uri": "https://localhost:8080/"
        },
        "id": "qmAPTj-t_lPs",
        "outputId": "281cf41d-5ab4-44d1-d9bb-4afc58613e52"
      },
      "execution_count": 21,
      "outputs": [
        {
          "output_type": "stream",
          "name": "stdout",
          "text": [
            "5->/->8->+->3->-->6->*->1->"
          ]
        }
      ]
    },
    {
      "cell_type": "markdown",
      "metadata": {
        "id": "tu3n5ZdWAJl2"
      },
      "source": [
        "#### 3. Construct a binary expression tree\n",
        "\n",
        "- Use the evaluateExpressionTree method to get the result of the expression\n",
        "- Use the inorder method to traverse the tree  \n",
        "\n",
        "$$ ((2 + 5) / 3)- (3 + 8) $$"
      ]
    },
    {
      "cell_type": "code",
      "execution_count": 23,
      "metadata": {
        "id": "5GvZBxgtAJl3"
      },
      "outputs": [],
      "source": [
        "# put your answer here\n",
        "\n",
        "m1 = Node('2')\n",
        "m2 = Node('+')\n",
        "m3 = Node('5')\n",
        "m4 = Node('/')\n",
        "m5 = Node('3')\n",
        "m6 = Node('-')\n",
        "m7 = Node('3')\n",
        "m8 = Node('+')\n",
        "m9 = Node('8')\n",
        "\n",
        "# let '-' (m6) be the parent (top) node\n",
        "\n",
        "# -'s (m6) root\n",
        "m6.left = m4\n",
        "m6.right = m8\n",
        "\n",
        "# /'s (m4) root\n",
        "m4.left = m2\n",
        "m4.right = m5\n",
        "\n",
        "# +'s (m2) root\n",
        "m2.left = m1\n",
        "m2.right = m3\n",
        "\n",
        "# +'s (m8) root\n",
        "m8.left = m7\n",
        "m8.right = m9"
      ]
    },
    {
      "cell_type": "code",
      "source": [
        "evaluateExpressionTree(m6)"
      ],
      "metadata": {
        "colab": {
          "base_uri": "https://localhost:8080/"
        },
        "id": "en_Hzq-aK5J8",
        "outputId": "93f7714c-5a90-49cc-8907-25641ec3a646"
      },
      "execution_count": 24,
      "outputs": [
        {
          "output_type": "execute_result",
          "data": {
            "text/plain": [
              "-8.666666666666666"
            ]
          },
          "metadata": {},
          "execution_count": 24
        }
      ]
    },
    {
      "cell_type": "code",
      "source": [
        "inorder(m6)"
      ],
      "metadata": {
        "colab": {
          "base_uri": "https://localhost:8080/"
        },
        "id": "RtpJN5yEK5-Q",
        "outputId": "007ecf00-b620-4471-f1c2-67fddd09af05"
      },
      "execution_count": 25,
      "outputs": [
        {
          "output_type": "stream",
          "name": "stdout",
          "text": [
            "2->+->5->/->3->-->3->+->8->"
          ]
        }
      ]
    }
  ],
  "metadata": {
    "kernelspec": {
      "display_name": "Python 3",
      "language": "python",
      "name": "python3"
    },
    "language_info": {
      "codemirror_mode": {
        "name": "ipython",
        "version": 3
      },
      "file_extension": ".py",
      "mimetype": "text/x-python",
      "name": "python",
      "nbconvert_exporter": "python",
      "pygments_lexer": "ipython3",
      "version": "3.11.4"
    },
    "orig_nbformat": 4,
    "colab": {
      "provenance": []
    }
  },
  "nbformat": 4,
  "nbformat_minor": 0
}