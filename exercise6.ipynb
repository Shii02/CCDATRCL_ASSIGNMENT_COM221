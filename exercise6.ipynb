{
  "cells": [
    {
      "cell_type": "markdown",
      "metadata": {
        "id": "kfWYg-MKWmgR"
      },
      "source": [
        "# Exercise 6"
      ]
    },
    {
      "cell_type": "markdown",
      "metadata": {
        "id": "amkoy6usWmgW"
      },
      "source": [
        "#### Pre-defined code"
      ]
    },
    {
      "cell_type": "code",
      "execution_count": 1,
      "metadata": {
        "id": "6KiA57ZkWmgX"
      },
      "outputs": [],
      "source": [
        "class Node:\n",
        "    def __init__(self, item):\n",
        "        self.left = None\n",
        "        self.right = None\n",
        "        self.val = item"
      ]
    },
    {
      "cell_type": "code",
      "execution_count": 2,
      "metadata": {
        "id": "1dzS3NP-WmgY"
      },
      "outputs": [],
      "source": [
        "def inorder(root):\n",
        "\n",
        "    if root:\n",
        "        # Traverse left\n",
        "        inorder(root.left)\n",
        "        # Traverse root\n",
        "        print(str(root.val) + \"->\", end='')\n",
        "        # Traverse right\n",
        "        inorder(root.right)\n",
        "\n",
        "def postorder(root):\n",
        "\n",
        "    if root:\n",
        "        # Traverse left\n",
        "        postorder(root.left)\n",
        "        # Traverse right\n",
        "        postorder(root.right)\n",
        "        # Traverse root\n",
        "        print(str(root.val) + \"->\", end='')\n",
        "\n",
        "def preorder(root):\n",
        "\n",
        "    if root:\n",
        "        # Traverse root\n",
        "        print(str(root.val) + \"->\", end='')\n",
        "        # Traverse left\n",
        "        preorder(root.left)\n",
        "        # Traverse right\n",
        "        preorder(root.right)"
      ]
    },
    {
      "cell_type": "markdown",
      "metadata": {
        "id": "idPOsfyvWmgZ"
      },
      "source": [
        "#### 1. Construct Create your own company org chart and put yourself as CEO.\n",
        "\n",
        "Using a Tree data structure,\n",
        "\n",
        "- Assign yourself as CEO\n",
        "\n",
        "- Assign any of your classmate as HR Director\n",
        "- Assign any of your classmate as Sales Director\n",
        "\n",
        "- Assign any of your classmate as trainee. His/her boss is the HR Director\n",
        "- Assign any of your classmate as a staff and trainee. Their boss is the Sales Director\n"
      ]
    },
    {
      "cell_type": "markdown",
      "metadata": {
        "id": "QDVybuR6WmgZ"
      },
      "source": [
        "<img src=\"https://thumbs.dreamstime.com/z/cartoon-organization-chart-some-company-93778925.jpg\"/>"
      ]
    },
    {
      "cell_type": "code",
      "execution_count": 12,
      "metadata": {
        "id": "9Rvgx5UrWmga"
      },
      "outputs": [],
      "source": [
        "# put your answer here\n",
        "\n",
        "CEO = Node(\"Carl\")\n",
        "HR_Director = Node(\"Rainnand\")\n",
        "Sales_Director = Node(\"Vernon\")\n",
        "Trainee1 = Node(\"Niel\")\n",
        "Staff = Node(\"Pedro\")\n",
        "Trainee2 = Node(\"Juan\")\n",
        "\n",
        "#CEO's leaf/child\n",
        "CEO.left = HR_Director\n",
        "CEO.right = Sales_Director\n",
        "\n",
        "#HR's leaf/child\n",
        "HR_Director.left = Trainee1\n",
        "\n",
        "#Sales's leaf/child\n",
        "\n",
        "Sales_Director.left = Staff\n",
        "Sales_Director.right = Trainee2\n"
      ]
    },
    {
      "cell_type": "markdown",
      "metadata": {
        "id": "6fJovVYWWmga"
      },
      "source": [
        "#### 2. Traverse the tree in in-order traversal"
      ]
    },
    {
      "cell_type": "code",
      "execution_count": 13,
      "metadata": {
        "id": "Q7Fx6pHtWmgb",
        "colab": {
          "base_uri": "https://localhost:8080/"
        },
        "outputId": "9b711e2c-f445-4e2c-9929-295c6648eb08"
      },
      "outputs": [
        {
          "output_type": "stream",
          "name": "stdout",
          "text": [
            "Niel->Rainnand->Carl->Pedro->Vernon->Juan->"
          ]
        }
      ],
      "source": [
        "# put your answer here\n",
        "\n",
        "inorder(CEO)"
      ]
    },
    {
      "cell_type": "markdown",
      "metadata": {
        "id": "ldif7FZDWmgb"
      },
      "source": [
        "#### 3. Traverse the tree in pre-order traversal"
      ]
    },
    {
      "cell_type": "code",
      "execution_count": 15,
      "metadata": {
        "id": "9IM7InIGWmgb",
        "colab": {
          "base_uri": "https://localhost:8080/"
        },
        "outputId": "eee1b629-e24c-4242-a5dc-994297f926cb"
      },
      "outputs": [
        {
          "output_type": "stream",
          "name": "stdout",
          "text": [
            "Carl->Rainnand->Niel->Vernon->Pedro->Juan->"
          ]
        }
      ],
      "source": [
        "# put your answer here\n",
        "\n",
        "preorder(CEO)"
      ]
    },
    {
      "cell_type": "markdown",
      "metadata": {
        "id": "Nt8XX5-AWmgc"
      },
      "source": [
        "#### 4. Traverse the tree in post-order traversal"
      ]
    },
    {
      "cell_type": "code",
      "execution_count": 16,
      "metadata": {
        "id": "uFGk0-X7Wmgc",
        "colab": {
          "base_uri": "https://localhost:8080/"
        },
        "outputId": "67d0b8a5-a948-4b5c-8c95-97eac8dca77f"
      },
      "outputs": [
        {
          "output_type": "stream",
          "name": "stdout",
          "text": [
            "Niel->Rainnand->Pedro->Juan->Vernon->Carl->"
          ]
        }
      ],
      "source": [
        "# put your answer here\n",
        "\n",
        "postorder(CEO)"
      ]
    }
  ],
  "metadata": {
    "kernelspec": {
      "display_name": "Python 3",
      "language": "python",
      "name": "python3"
    },
    "language_info": {
      "codemirror_mode": {
        "name": "ipython",
        "version": 3
      },
      "file_extension": ".py",
      "mimetype": "text/x-python",
      "name": "python",
      "nbconvert_exporter": "python",
      "pygments_lexer": "ipython3",
      "version": "3.11.4"
    },
    "orig_nbformat": 4,
    "colab": {
      "provenance": []
    }
  },
  "nbformat": 4,
  "nbformat_minor": 0
}