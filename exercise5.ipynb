{
  "cells": [
    {
      "cell_type": "markdown",
      "metadata": {
        "id": "Pt6oYACjCV_I"
      },
      "source": [
        "# Exercise 5"
      ]
    },
    {
      "cell_type": "markdown",
      "metadata": {
        "id": "1PrDkEVXCV_P"
      },
      "source": [
        "#### 1. Create a dictionary of your 10 favorite songs."
      ]
    },
    {
      "cell_type": "markdown",
      "metadata": {
        "id": "5KUPeEbfCV_Q"
      },
      "source": [
        "Example:\n",
        "\n",
        "|KEY|VALUE|\n",
        "|---|---|\n",
        "|001|My Love|\n",
        "|002|Like a rose|"
      ]
    },
    {
      "cell_type": "code",
      "execution_count": 2,
      "metadata": {
        "id": "7egPB-DuCV_R",
        "outputId": "73c2b21a-f353-452d-b91f-fc59c618e735",
        "colab": {
          "base_uri": "https://localhost:8080/"
        }
      },
      "outputs": [
        {
          "output_type": "stream",
          "name": "stdout",
          "text": [
            "{10001: 'I want it that way', 10002: 'Swear it Again', 10003: 'Shape of my heart', 10004: 'As long as you love me', 10005: 'My love', 10006: 'Sentimental', 10007: 'Mundo', 10008: 'Hey Barbara!', 10009: 'Ilaw sa daan', 10010: 'Bata dahan-dahan'}\n"
          ]
        }
      ],
      "source": [
        "# put your answer here\n",
        "\n",
        "myDictionary = {\n",
        "    10001: \"I want it that way\",\n",
        "    10002: \"Swear it Again\",\n",
        "    10003: \"Shape of my heart\",\n",
        "    10004: \"As long as you love me\",\n",
        "    10005: \"My love\",\n",
        "    10006: \"Sentimental\",\n",
        "    10007: \"Mundo\",\n",
        "    10008: \"Hey Barbara!\",\n",
        "    10009: \"Ilaw sa daan\",\n",
        "    10010: \"Bata dahan-dahan\",\n",
        "}\n",
        "\n",
        "print(myDictionary)\n"
      ]
    },
    {
      "cell_type": "markdown",
      "metadata": {
        "id": "Yff0V_MmCV_T"
      },
      "source": [
        "#### 2. Loop through the dictionary by its **key** and **value**"
      ]
    },
    {
      "cell_type": "code",
      "execution_count": 3,
      "metadata": {
        "id": "FnkW2y3wCV_U",
        "outputId": "e2d92225-4c86-4cd0-e65d-c5bf86c4fa41",
        "colab": {
          "base_uri": "https://localhost:8080/"
        }
      },
      "outputs": [
        {
          "output_type": "stream",
          "name": "stdout",
          "text": [
            "I want it that way\n",
            "Swear it Again\n",
            "Shape of my heart\n",
            "As long as you love me\n",
            "My love\n",
            "Sentimental\n",
            "Mundo\n",
            "Hey Barbara!\n",
            "Ilaw sa daan\n",
            "Bata dahan-dahan\n"
          ]
        }
      ],
      "source": [
        "# put your answer here\n",
        "\n",
        "for i in myDictionary:\n",
        "  print(myDictionary[i])"
      ]
    },
    {
      "cell_type": "markdown",
      "metadata": {
        "id": "QYGiIcehCV_U"
      },
      "source": [
        "#### 3. Add one additional song"
      ]
    },
    {
      "cell_type": "code",
      "execution_count": 4,
      "metadata": {
        "id": "JKZi2GwICV_V",
        "outputId": "4dc052a9-5628-4c1d-92d5-60a887fa48ae",
        "colab": {
          "base_uri": "https://localhost:8080/"
        }
      },
      "outputs": [
        {
          "output_type": "stream",
          "name": "stdout",
          "text": [
            "{10001: 'I want it that way', 10002: 'Swear it Again', 10003: 'Shape of my heart', 10004: 'As long as you love me', 10005: 'My love', 10006: 'Sentimental', 10007: 'Mundo', 10008: 'Hey Barbara!', 10009: 'Ilaw sa daan', 10010: 'Bata dahan-dahan', 10011: 'All too well'}\n"
          ]
        }
      ],
      "source": [
        "# put your answer here\n",
        "\n",
        "myDictionary[10011] = \"All too well\"\n",
        "\n",
        "print(myDictionary)"
      ]
    },
    {
      "cell_type": "code",
      "source": [
        "\n",
        "print(myDictionary)"
      ],
      "metadata": {
        "id": "Fh8W03dwGjbw",
        "outputId": "2524dbf4-fd27-43bd-cd06-0f91153c2665",
        "colab": {
          "base_uri": "https://localhost:8080/"
        }
      },
      "execution_count": null,
      "outputs": [
        {
          "output_type": "stream",
          "name": "stdout",
          "text": [
            "{10001: 'I want it that way', 10002: 'Swear it Again', 10003: 'Shape of my heart', 10004: 'As long as you love me', 10005: 'My love', 10006: 'Sentimental', 10007: 'Mundo', 10008: 'Hey Barbara!', 10009: 'Ilaw sa daan', 10010: 'Bata dahan-dahan', 10011: 'All too well'}\n"
          ]
        }
      ]
    },
    {
      "cell_type": "markdown",
      "metadata": {
        "id": "Eaupm7K5CV_W"
      },
      "source": [
        "#### 4. Remove one song"
      ]
    },
    {
      "cell_type": "code",
      "execution_count": 5,
      "metadata": {
        "id": "JQ_PmztyCV_X",
        "outputId": "4f8cc93d-70a7-4083-b8c2-168713968849",
        "colab": {
          "base_uri": "https://localhost:8080/"
        }
      },
      "outputs": [
        {
          "output_type": "stream",
          "name": "stdout",
          "text": [
            "{10001: 'I want it that way', 10002: 'Swear it Again', 10003: 'Shape of my heart', 10004: 'As long as you love me', 10005: 'My love', 10007: 'Mundo', 10008: 'Hey Barbara!', 10009: 'Ilaw sa daan', 10010: 'Bata dahan-dahan', 10011: 'All too well'}\n"
          ]
        }
      ],
      "source": [
        "# put your answer here\n",
        "\n",
        "myDictionary.pop(10006)\n",
        "\n",
        "print(myDictionary)"
      ]
    },
    {
      "cell_type": "markdown",
      "metadata": {
        "id": "pRvDClKDCV_X"
      },
      "source": [
        "#### 5. Create a nested dictionary of your 10 favorite songs with 5 genres. Display all of the items of the nested dictionary\n",
        "\n",
        "- Each nested dictionary's key should be the genre of the song\n",
        "- Put each song in their respective genre"
      ]
    },
    {
      "cell_type": "markdown",
      "metadata": {
        "id": "iF5I11eMCV_X"
      },
      "source": [
        "Example:\n",
        "\n",
        "\n",
        "|KEY|VALUE|\n",
        "|---|---|\n",
        "|Pop|{001, Baby}|\n",
        "|Rock|{001, Enter Sandman}|"
      ]
    },
    {
      "cell_type": "code",
      "execution_count": 14,
      "metadata": {
        "id": "4lGkVH2rCV_Y",
        "outputId": "e51cd4ea-7330-4409-8f2f-6c0d6a6c3316",
        "colab": {
          "base_uri": "https://localhost:8080/"
        }
      },
      "outputs": [
        {
          "output_type": "stream",
          "name": "stdout",
          "text": [
            "Counting Stars\n",
            "Dynamite\n",
            "The Gambler\n",
            "How Do I Live\n",
            "Fly Me To The Moon\n",
            "Can't Help Falling In Love\n",
            "Bohemian Rhapsody\n",
            "In The End\n",
            "Lose Yourself\n",
            "The Call\n"
          ]
        }
      ],
      "source": [
        "# put your answer here\n",
        "\n",
        "mySongs = {\n",
        "    \"Pop\" : {\n",
        "        10001: \"Counting Stars\",\n",
        "        10002: \"Dynamite\"\n",
        "    },\n",
        "    \"Country\" : {\n",
        "        10003: \"The Gambler\",\n",
        "        10004: \"How Do I Live\"\n",
        "    },\n",
        "    \"Classic\" : {\n",
        "        10005: \"Fly Me To The Moon\",\n",
        "        10006: \"Can't Help Falling In Love\"\n",
        "    },\n",
        "    \"Rock\" : {\n",
        "        10007: \"Bohemian Rhapsody\",\n",
        "        10008: \"In The End\"\n",
        "    },\n",
        "    \"Hip-Hop\" : {\n",
        "        10009: \"Lose Yourself\",\n",
        "        10010: \"The Call\"\n",
        "    }\n",
        "}\n",
        "\n",
        "for x in mySongs:\n",
        "  for y in mySongs[x]:\n",
        "    print(mySongs[x][y])"
      ]
    },
    {
      "cell_type": "markdown",
      "metadata": {
        "id": "xtepWAyxCV_Y"
      },
      "source": [
        "#### 6. Print the first song of the first genre"
      ]
    },
    {
      "cell_type": "code",
      "execution_count": null,
      "metadata": {
        "id": "Y-2trjtjCV_Y",
        "outputId": "bc03dba2-6547-4487-c909-a815e2fe6c97",
        "colab": {
          "base_uri": "https://localhost:8080/"
        }
      },
      "outputs": [
        {
          "output_type": "stream",
          "name": "stdout",
          "text": [
            "Counting Stars\n"
          ]
        }
      ],
      "source": [
        "# put your answer here\n",
        "\n",
        "print(mySongs[\"Pop\"][10001])\n"
      ]
    },
    {
      "cell_type": "markdown",
      "metadata": {
        "id": "jsxaAJP3CV_Z"
      },
      "source": [
        "#### 7. Print the first song of the last genre"
      ]
    },
    {
      "cell_type": "code",
      "execution_count": null,
      "metadata": {
        "id": "3_tiOsNkCV_Z",
        "outputId": "daef412d-6d32-4013-acb2-2b893df0cfc8",
        "colab": {
          "base_uri": "https://localhost:8080/"
        }
      },
      "outputs": [
        {
          "output_type": "stream",
          "name": "stdout",
          "text": [
            "The Call\n"
          ]
        }
      ],
      "source": [
        "# put your answer here\n",
        "\n",
        "print(mySongs[\"Hip-Hop\"][10010])"
      ]
    }
  ],
  "metadata": {
    "kernelspec": {
      "display_name": "Python 3",
      "language": "python",
      "name": "python3"
    },
    "language_info": {
      "codemirror_mode": {
        "name": "ipython",
        "version": 3
      },
      "file_extension": ".py",
      "mimetype": "text/x-python",
      "name": "python",
      "nbconvert_exporter": "python",
      "pygments_lexer": "ipython3",
      "version": "3.11.4"
    },
    "orig_nbformat": 4,
    "colab": {
      "provenance": []
    }
  },
  "nbformat": 4,
  "nbformat_minor": 0
}